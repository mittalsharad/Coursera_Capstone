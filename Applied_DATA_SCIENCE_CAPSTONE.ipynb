{
 "cells": [
  {
   "cell_type": "markdown",
   "id": "eedc0f6f",
   "metadata": {},
   "source": [
    "# Applied Data Science Capstone"
   ]
  },
  {
   "cell_type": "markdown",
   "id": "44a31441",
   "metadata": {},
   "source": [
    "This notebok is going to host all the code related to the Capstone project for IBM Applied Data Science Cour"
   ]
  }
 ],
 "metadata": {
  "kernelspec": {
   "display_name": "Python 3",
   "language": "python",
   "name": "python3"
  },
  "language_info": {
   "codemirror_mode": {
    "name": "ipython",
    "version": 3
   },
   "file_extension": ".py",
   "mimetype": "text/x-python",
   "name": "python",
   "nbconvert_exporter": "python",
   "pygments_lexer": "ipython3",
   "version": "3.8.8"
  }
 },
 "nbformat": 4,
 "nbformat_minor": 5
}
