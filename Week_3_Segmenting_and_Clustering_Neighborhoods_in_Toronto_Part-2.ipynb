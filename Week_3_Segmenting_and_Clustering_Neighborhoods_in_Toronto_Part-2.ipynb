{
 "cells": [
  {
   "cell_type": "markdown",
   "id": "95e7a8a5",
   "metadata": {},
   "source": [
    "# Part-2\n",
    "\n",
    "Getting Longitude and Latitude of each Postal code"
   ]
  },
  {
   "cell_type": "code",
   "execution_count": 4,
   "id": "cfef02cb",
   "metadata": {},
   "outputs": [],
   "source": [
    "#! pip install geocoder"
   ]
  },
  {
   "cell_type": "code",
   "execution_count": 5,
   "id": "2289660f",
   "metadata": {},
   "outputs": [],
   "source": [
    "import geocoder\n",
    "import pandas as pd"
   ]
  },
  {
   "cell_type": "markdown",
   "id": "4395eda0",
   "metadata": {},
   "source": [
    "## Merging The Two CSV files manually"
   ]
  },
  {
   "cell_type": "code",
   "execution_count": 11,
   "id": "cb99dfec",
   "metadata": {},
   "outputs": [],
   "source": [
    "# Importing the CSV files having Postal codes and Coordinate info.\n",
    "df_1 = pd.read_csv('toronto.csv')\n",
    "df_2 = pd.read_csv('Geospatial_Coordinates.csv')"
   ]
  },
  {
   "cell_type": "code",
   "execution_count": 15,
   "id": "17c57b00",
   "metadata": {},
   "outputs": [
    {
     "data": {
      "text/plain": [
       "Index(['PostalCode', 'Borough', 'Neighborhood'], dtype='object')"
      ]
     },
     "execution_count": 15,
     "metadata": {},
     "output_type": "execute_result"
    }
   ],
   "source": [
    "# Columns of Postal DF\n",
    "df_1.columns"
   ]
  },
  {
   "cell_type": "code",
   "execution_count": 16,
   "id": "2649ac33",
   "metadata": {},
   "outputs": [
    {
     "data": {
      "text/plain": [
       "Index(['Postal Code', 'Latitude', 'Longitude'], dtype='object')"
      ]
     },
     "execution_count": 16,
     "metadata": {},
     "output_type": "execute_result"
    }
   ],
   "source": [
    "# Columns of Coordinate df\n",
    "df_2.columns"
   ]
  },
  {
   "cell_type": "markdown",
   "id": "70a079d1",
   "metadata": {},
   "source": [
    "##### Since both DF have different representation for Postal Code, lets rename this Column in DF_2"
   ]
  },
  {
   "cell_type": "code",
   "execution_count": 19,
   "id": "1ced75fb",
   "metadata": {},
   "outputs": [
    {
     "data": {
      "text/plain": [
       "Index(['PostalCode', 'Latitude', 'Longitude'], dtype='object')"
      ]
     },
     "execution_count": 19,
     "metadata": {},
     "output_type": "execute_result"
    }
   ],
   "source": [
    "df_2.rename(columns = {'Postal Code' : 'PostalCode'}, inplace=True)\n",
    "\n",
    "df_2.columns"
   ]
  },
  {
   "cell_type": "markdown",
   "id": "1a6b381b",
   "metadata": {},
   "source": [
    "##### Now, Since the PostalCode column name is same in both DF, we can merge these 2 using Panda's Merge function on Column = PostalCode "
   ]
  },
  {
   "cell_type": "code",
   "execution_count": null,
   "id": "4cea7ab9",
   "metadata": {},
   "outputs": [],
   "source": [
    "final_df = pd.merge(df_1, df_2,on='PostalCode')"
   ]
  },
  {
   "cell_type": "code",
   "execution_count": 21,
   "id": "254c7704",
   "metadata": {},
   "outputs": [
    {
     "data": {
      "text/html": [
       "<div>\n",
       "<style scoped>\n",
       "    .dataframe tbody tr th:only-of-type {\n",
       "        vertical-align: middle;\n",
       "    }\n",
       "\n",
       "    .dataframe tbody tr th {\n",
       "        vertical-align: top;\n",
       "    }\n",
       "\n",
       "    .dataframe thead th {\n",
       "        text-align: right;\n",
       "    }\n",
       "</style>\n",
       "<table border=\"1\" class=\"dataframe\">\n",
       "  <thead>\n",
       "    <tr style=\"text-align: right;\">\n",
       "      <th></th>\n",
       "      <th>PostalCode</th>\n",
       "      <th>Borough</th>\n",
       "      <th>Neighborhood</th>\n",
       "      <th>Latitude</th>\n",
       "      <th>Longitude</th>\n",
       "    </tr>\n",
       "  </thead>\n",
       "  <tbody>\n",
       "    <tr>\n",
       "      <th>0</th>\n",
       "      <td>M1B</td>\n",
       "      <td>Scarborough</td>\n",
       "      <td>Malvern,Rouge</td>\n",
       "      <td>43.806686</td>\n",
       "      <td>-79.194353</td>\n",
       "    </tr>\n",
       "    <tr>\n",
       "      <th>1</th>\n",
       "      <td>M1C</td>\n",
       "      <td>Scarborough</td>\n",
       "      <td>RougeHill,PortUnion,HighlandCreek</td>\n",
       "      <td>43.784535</td>\n",
       "      <td>-79.160497</td>\n",
       "    </tr>\n",
       "    <tr>\n",
       "      <th>2</th>\n",
       "      <td>M1E</td>\n",
       "      <td>Scarborough</td>\n",
       "      <td>Guildwood,Morningside,WestHill</td>\n",
       "      <td>43.763573</td>\n",
       "      <td>-79.188711</td>\n",
       "    </tr>\n",
       "    <tr>\n",
       "      <th>3</th>\n",
       "      <td>M1G</td>\n",
       "      <td>Scarborough</td>\n",
       "      <td>Woburn</td>\n",
       "      <td>43.770992</td>\n",
       "      <td>-79.216917</td>\n",
       "    </tr>\n",
       "    <tr>\n",
       "      <th>4</th>\n",
       "      <td>M1H</td>\n",
       "      <td>Scarborough</td>\n",
       "      <td>Cedarbrae</td>\n",
       "      <td>43.773136</td>\n",
       "      <td>-79.239476</td>\n",
       "    </tr>\n",
       "    <tr>\n",
       "      <th>...</th>\n",
       "      <td>...</td>\n",
       "      <td>...</td>\n",
       "      <td>...</td>\n",
       "      <td>...</td>\n",
       "      <td>...</td>\n",
       "    </tr>\n",
       "    <tr>\n",
       "      <th>98</th>\n",
       "      <td>M9N</td>\n",
       "      <td>York</td>\n",
       "      <td>Weston</td>\n",
       "      <td>43.706876</td>\n",
       "      <td>-79.518188</td>\n",
       "    </tr>\n",
       "    <tr>\n",
       "      <th>99</th>\n",
       "      <td>M9P</td>\n",
       "      <td>Etobicoke</td>\n",
       "      <td>Westmount</td>\n",
       "      <td>43.696319</td>\n",
       "      <td>-79.532242</td>\n",
       "    </tr>\n",
       "    <tr>\n",
       "      <th>100</th>\n",
       "      <td>M9R</td>\n",
       "      <td>Etobicoke</td>\n",
       "      <td>KingsviewVillage,St.Phillips,MartinGroveGarden...</td>\n",
       "      <td>43.688905</td>\n",
       "      <td>-79.554724</td>\n",
       "    </tr>\n",
       "    <tr>\n",
       "      <th>101</th>\n",
       "      <td>M9V</td>\n",
       "      <td>Etobicoke</td>\n",
       "      <td>SouthSteeles,Silverstone,Humbergate,Jamestown,...</td>\n",
       "      <td>43.739416</td>\n",
       "      <td>-79.588437</td>\n",
       "    </tr>\n",
       "    <tr>\n",
       "      <th>102</th>\n",
       "      <td>M9W</td>\n",
       "      <td>Etobicoke Northwest</td>\n",
       "      <td>Clairville,Humberwood,WoodbineDowns,WestHumber...</td>\n",
       "      <td>43.706748</td>\n",
       "      <td>-79.594054</td>\n",
       "    </tr>\n",
       "  </tbody>\n",
       "</table>\n",
       "<p>103 rows × 5 columns</p>\n",
       "</div>"
      ],
      "text/plain": [
       "    PostalCode              Borough  \\\n",
       "0          M1B          Scarborough   \n",
       "1          M1C          Scarborough   \n",
       "2          M1E          Scarborough   \n",
       "3          M1G          Scarborough   \n",
       "4          M1H          Scarborough   \n",
       "..         ...                  ...   \n",
       "98         M9N                 York   \n",
       "99         M9P            Etobicoke   \n",
       "100        M9R            Etobicoke   \n",
       "101        M9V            Etobicoke   \n",
       "102        M9W  Etobicoke Northwest   \n",
       "\n",
       "                                          Neighborhood   Latitude  Longitude  \n",
       "0                                        Malvern,Rouge  43.806686 -79.194353  \n",
       "1                    RougeHill,PortUnion,HighlandCreek  43.784535 -79.160497  \n",
       "2                       Guildwood,Morningside,WestHill  43.763573 -79.188711  \n",
       "3                                               Woburn  43.770992 -79.216917  \n",
       "4                                            Cedarbrae  43.773136 -79.239476  \n",
       "..                                                 ...        ...        ...  \n",
       "98                                              Weston  43.706876 -79.518188  \n",
       "99                                           Westmount  43.696319 -79.532242  \n",
       "100  KingsviewVillage,St.Phillips,MartinGroveGarden...  43.688905 -79.554724  \n",
       "101  SouthSteeles,Silverstone,Humbergate,Jamestown,...  43.739416 -79.588437  \n",
       "102  Clairville,Humberwood,WoodbineDowns,WestHumber...  43.706748 -79.594054  \n",
       "\n",
       "[103 rows x 5 columns]"
      ]
     },
     "execution_count": 21,
     "metadata": {},
     "output_type": "execute_result"
    }
   ],
   "source": [
    "# DF after merging the 2 df\n",
    "final_df"
   ]
  },
  {
   "cell_type": "code",
   "execution_count": 28,
   "id": "5cee0b6f",
   "metadata": {},
   "outputs": [],
   "source": [
    "final_df.to_csv('toronto_final.csv', index = False)"
   ]
  },
  {
   "cell_type": "markdown",
   "id": "dacf3a1c",
   "metadata": {},
   "source": [
    "## Using Geocoder to get Latitude and Longitude"
   ]
  },
  {
   "cell_type": "markdown",
   "id": "f930dc5a",
   "metadata": {},
   "source": [
    "write a Function to Get the Lat-Long of a Location\n",
    "\n",
    "def get_lat_long(postal_code):\n",
    "    lat_long = None\n",
    "    while(lat_long is None):\n",
    "        g = geocoder.arcgis('{}, Toronto, Ontario'.format(postal_code))\n",
    "        lati_long_coords = g.latlng\n",
    "    return lati_long_coords\n",
    "\n",
    "get_lat_long('M4G')    "
   ]
  },
  {
   "cell_type": "code",
   "execution_count": null,
   "id": "7db1f380",
   "metadata": {},
   "outputs": [],
   "source": []
  }
 ],
 "metadata": {
  "kernelspec": {
   "display_name": "Python 3",
   "language": "python",
   "name": "python3"
  },
  "language_info": {
   "codemirror_mode": {
    "name": "ipython",
    "version": 3
   },
   "file_extension": ".py",
   "mimetype": "text/x-python",
   "name": "python",
   "nbconvert_exporter": "python",
   "pygments_lexer": "ipython3",
   "version": "3.8.8"
  }
 },
 "nbformat": 4,
 "nbformat_minor": 5
}
